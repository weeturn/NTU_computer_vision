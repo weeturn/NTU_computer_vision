{
 "cells": [
  {
   "cell_type": "code",
   "execution_count": 70,
   "metadata": {},
   "outputs": [],
   "source": [
    "# PART 1\n",
    "import imageio\n",
    "im = imageio.imread(\"lena.bmp\")\n",
    "height, width = im.shape\n",
    "# upside-down\n",
    "im_a = im.copy()\n",
    "for i, rows in enumerate(im):\n",
    "    im_a[511-i] = rows\n",
    "imageio.imwrite(\"lena_a.bmp\",im_a)\n",
    "\n",
    "# right-side-left\n",
    "im_b = im.copy()\n",
    "for i in range(512):\n",
    "    for j in range(512):\n",
    "        im_b[i][j] = im[i][511-j]\n",
    "imageio.imwrite(\"lena_b.bmp\",im_b)\n",
    "\n",
    "# diagonally flip\n",
    "im_c = im.copy()\n",
    "for i in range(512):\n",
    "    for j in range(512):\n",
    "        im_c[i][j] = im[j][i]\n",
    "imageio.imwrite(\"lena_c.bmp\",im_c)\n",
    "\n",
    "########################################\n",
    "# PART 2 starts here !!!!!!!!!!!!!!!!!!!!!!!!\n",
    "from PIL import Image\n",
    "im = Image.open(\"lena.bmp\")\n",
    "\n",
    "# rotate clockwise for 45 degree\n",
    "rotated = im.rotate(-45)\n",
    "rotated.save(\"lena_d.bmp\")\n",
    "\n",
    "# shrink lena.bmp in half\n",
    "size = int(im.size[0]/2)\n",
    "shrinked = im.resize((size, size))\n",
    "shrinked.save(\"lena_e.bmp\")\n",
    "\n",
    "# binarize lena.bmp at 128 to get a binary image\n",
    "thresh = 128\n",
    "fn = lambda x : 255 if x >= thresh else 0\n",
    "binary = im.convert('L').point(fn, mode='1')\n",
    "binary.save(\"lena_f.bmp\")"
   ]
  }
 ],
 "metadata": {
  "kernelspec": {
   "display_name": "Python 3",
   "language": "python",
   "name": "python3"
  },
  "language_info": {
   "codemirror_mode": {
    "name": "ipython",
    "version": 3
   },
   "file_extension": ".py",
   "mimetype": "text/x-python",
   "name": "python",
   "nbconvert_exporter": "python",
   "pygments_lexer": "ipython3",
   "version": "3.9.2"
  }
 },
 "nbformat": 4,
 "nbformat_minor": 4
}
